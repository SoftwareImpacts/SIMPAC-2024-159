#-------------------------------------------------------------------------------------------
# Quantum simulation of a quantum field lens coding algorithm with entanglement scaling
# between multi-well barrier of internal system B and external system A.
# Created by: Philip B. Alipour, Supervisor: T. A. Gulliver, at the University of Victoria,
# Dept. ECE, Victoria BC, Canada. 
# Code updated based on Qiskit 2023 changes specified in code comments below. 
# Sidenotes: You can also run code with the right pckages installed in pipx or python.
# Examples of changes can be found on e.g., 
# https://docs.quantum.ibm.com/api/migration-guides/qiskit-1.0-features   
#------------------------------------------------------------------------------------------
# Import the QISKit SDK 
import numpy as np  
from qiskit import QuantumCircuit, ClassicalRegister, QuantumRegister, Aer, execute, IBMQ
#-----------------------------------------------------------------------------------------
# Newly added package in 2023, the U3 gate has been renamed the U gate.
# from https://quantum-computing.ibm.com/composer/docs/iqx/operations_glossary
# and for cu1 gate to recreate this gate, add the control modifier to the phase gate 
# (formerly the U1 gate); (older version of Qiskit cu1, now cp)
# U3 should be renamed just U as it is an arbitrary single-qubit gate.
# CU1 should be renamed Cphase or CP depending on above. For more, visit
# https://github.com/Qiskit/qiskit-terra/issues/4106
#-----------------------------------------------------------------------------------------
from math import pi
from qiskit.compiler import transpile, assemble
from qiskit.tools.jupyter import *
from qiskit.visualization import *
from ibm_quantum_widgets import *
from qiskit.providers.backend import Backend # Specify backend device for data processing
from qiskit.tools.monitor import job_monitor 

# Set your API Token. IBMQ.enable_account (’API Token’) Create a Quantum Register with 
# 4 qubits.
q = QuantumRegister(4)

# Create a Classical Register with 4 bits.
c = ClassicalRegister(4) # as _b in Fig. 6 of Ref. [1]

# Create a Quantum Circuit.
qc = QuantumCircuit(q, c)
#-----------------------------------------------------------------------------------------
# Implementation of Superdense Coding
#-----------------------------------------------------------------------------------------
# State initialization on 4 qubits in the z-basis in the |0> state.
qc.reset(q[0])
qc.reset(q[1])
qc.reset(q[2])
qc.reset(q[3])
qc.x(q[0])
qc.x(q[2])
qc.barrier(range(4)) # Barrier to indicate physical barriers between systems A and B
                     # particles in communication.
qc.h(q[1]) 
qc.cx(q[1], q[2])
qc.barrier(range(4))
qc.z(q[1])   # Current state and encoded in the message through QFT.
#qc.x(q[1])  # Current message encoded in the superdense coding scheme
qc.barrier(range(4))

# Time step = 1. Time evolution of potential energy part of the Ising model (spin
# configuration tending to ground state or magnetization M>0) relative to kappaPhi
# implementation.
qc.h(q[2])
qc.u(5,-pi/2,pi/2,q[2])
qc.h(q[2])

#---------------------------------------------------------------------------------------
# Entanglement Encoder Implementation
#---------------------------------------------------------------------------------------
# Two-qubit Inverse Quantum Fourier Transform (QFT^-1)
qc.h(q[1])
qc.cp(pi/2, q[2], q[1])
qc.h(q[2])

# Time evolution of kinetic Ising model (kinetic energy part satisfying magnetization
# value M=0)
qc.p(pi/2, q[1])
qc.h(q[1])
qc.u(-(pi**2)/30, -pi/2, pi/2, q[1])
qc.h(q[1])
qc.h(q[2])
qc.u(-(pi**2)/8, -pi/2, pi/2, q[2])
qc.h(q[2])
qc.cp((pi**2)/8, q[2], q[1])

# Two-qubit Quantum Fourier Transform (QFT)
qc.h (q[2])
qc.cp (-pi/2, q[2], q[1])
qc.h (q[1])

# Time evolution of potential energy part 
qc.p(3*pi/4, q[1])
qc.h (q[2])
qc.u (5, -pi/2, pi/2, q[2])
qc.h (q[2])
qc.barrier(range(4))

#------------------------------------------------------------------------------------
# Continuation of the superdense code algorithm. Remove IF statement for real quantum
# computers when enabling one of the backends after ’ibmq_qasm_simulator’ below
#------------------------------------------------------------------------------------
qc.x(q[1]).c_if(c, 1)  # IF statement , as if the prize is spotted via Eve or the
# audience, ask Bob to decide to win the prize or a prize of lesser quality or energy
# value; flipping condition for Alice to cloak the prize is 0 as opposed to 1 or 2 in
# decimal. Remove IF statement when testing on a quantum computer and not a simulator.
qc.barrier(range(4))
qc.cx(q[1], q[2])
qc.h(q[1])
qc.barrier(range(4))
qc.measure(q[2], c[0])  # Qubit 2 is in state |0>
qc.measure(q[1], c[1])  # Qubit 1 is in state |1>

# Remove IF statement for real quantum computers when enabling one of the backends after
# ’ibmq_qasm_simulator’ below qc.swap(q[1],q[2]).c_if(c, 1) # SWAP gate is used if
# condition c=1 or 01 in binary.
qc.swap(q[1],q[2]).c_if(c, 2)   # SWAP gate is used if condition c=2 or 10 in binary
qc.measure(q, c)  # Map the quantum measurement to the classical bits
qc.barrier(range(4))

#------------------------------------------------------------------------------------
# Choose backend, number of shots and the plotting of histogram.
#------------------------------------------------------------------------------------
my_provider = IBMQ.load_account()
print(my_provider.backends())
ibmq_pick = my_provider.get_backend('ibmq_qasm_simulator')
#ibmq_pick = provider.get_backend('simulator_statevector')
#ibmq_pick = my_provider.get_backend('ibmq_athens') # this machine was recently retired
#ibmq_pick = my_provider.get_backend('ibmq_16_melbourne') # this machine was recently retired
shots = 8192 # Number of shots to run the program (experiment); maximum is 8192 shots.
job_exp = execute (qc, backend = ibmq_pick, shots = shots) 
job_monitor(job_exp)
result = job_exp.result()
print(result.get_counts(qc))
counts_exp = (result.get_counts(qc))
plot_histogram ([counts_exp], title='\n Maximum # of counts for pairwise qubits')

#--- The above code snippet is the old version limited to counts ratio to maximum number 
# of shots = 8192 resulting to plot probabilities in older Qiskit versions (as 
# presented in our method article, Ref. [1]). 
# New version to plot probabilities require further computation included for printing 
# out the same probabilities based on Maximum of counts/total number of shots = 
# a list of P(qubit pairs). 
# The observed probabilities are computed by taking the respective counts and dividing 
# by the total number of shots. 
# To display results, comment out the bottom lines prior to printing 
# out the QDF circuit.

#-----------------------------------------------------------------------------------
# Visualize the Circuit (enable the first two bottom lines to visualize) as editable 
# in IBM Quantum lab at https://lab.quantum-computing.ibm.com/
# and for drawing the circuit for printing the final line is enabled 
#-----------------------------------------------------------------------------------
#editor = CircuitComposer(circuit = qc) 
#editor
qc.draw(scale=3.5) # Draw the circuit with greater scale for high resolution view          
